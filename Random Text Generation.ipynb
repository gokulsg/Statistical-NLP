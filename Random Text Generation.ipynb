{
 "cells": [
  {
   "cell_type": "markdown",
   "metadata": {},
   "source": [
    "## Name : Gokul Srinivasagan"
   ]
  },
  {
   "cell_type": "markdown",
   "metadata": {},
   "source": [
    "### Here, Random text is generated from an n-gram model over a corpus. Initially, the text is preprocessed by converting all the words to lower case and generating word tokens. Then using the BasicNgram model, the text is generated."
   ]
  },
  {
   "cell_type": "code",
   "execution_count": 1,
   "metadata": {},
   "outputs": [],
   "source": [
    "from ngram import *\n",
    "import nltk"
   ]
  },
  {
   "cell_type": "code",
   "execution_count": 2,
   "metadata": {},
   "outputs": [],
   "source": [
    "def generate_tokens(file_name):\n",
    "    \"\"\"\n",
    "    Generate tokens by processing the input file\n",
    "\n",
    "    Args:\n",
    "        file_name (string): file to be processed\n",
    "        \n",
    "    Returns:\n",
    "        word_tokens(list): list of word obtained after word tokenization\n",
    "    \"\"\"\n",
    "    file = open(file_name, 'r', encoding='utf-8').read()\n",
    "    file = file.lower()\n",
    "    word_tokens = nltk.word_tokenize(file)\n",
    "    return word_tokens\n",
    "\n",
    "def generate_text(word_tokens, num, length, estimator):\n",
    "    \"\"\"\n",
    "    Generate the text\n",
    "\n",
    "    Args:\n",
    "        word_tokens (list): list of word obtained after word tokenization\n",
    "        num (int) : Number of words to be considered by BasicNgram class\n",
    "        length (int) : length of generated text\n",
    "        estimator (string) : To specify ml_estimator or goodturing_estimator. \n",
    "    \"\"\"\n",
    "    ngram = BasicNgram(num, word_tokens, estimator=estimator)\n",
    "    start_seq = list(ngram.contexts()[0])\n",
    "    word_generated = []\n",
    "    \n",
    "    for i in range(0,length):\n",
    "        word = ngram[tuple(start_seq)].generate()\n",
    "        start_seq = start_seq[1:] + [word]\n",
    "        word_generated.append(word)\n",
    "        \n",
    "    return word_generated"
   ]
  },
  {
   "cell_type": "markdown",
   "metadata": {},
   "source": [
    "### Varying num values from 2 to 5"
   ]
  },
  {
   "cell_type": "code",
   "execution_count": 3,
   "metadata": {},
   "outputs": [
    {
     "data": {
      "text/plain": [
       "'\\ufeffthe project gutenberg literary archive foundation and keep himself could get the branches . is a right thing , it is just as though little piece to throw nuts and little hind legs to mang , by their wives were ripped with his ears all over one solid wall nearest the men with what they lost in the big black or use of thine ; but if there were not stir foot . he did not wild-beast language -- awake and they may charge of the blue-skinned herd-bulls with his enemy at last ten fathoms deep , he was thinking'"
      ]
     },
     "execution_count": 3,
     "metadata": {},
     "output_type": "execute_result"
    }
   ],
   "source": [
    "file_name = \"junglebook.txt\"\n",
    "words_generated = generate_text(generate_tokens(file_name), num=2, length=100, estimator=ml_estimator)\n",
    "# Transform the list of words to a string#\n",
    "' '.join(words_generated)"
   ]
  },
  {
   "cell_type": "code",
   "execution_count": 4,
   "metadata": {},
   "outputs": [
    {
     "data": {
      "text/plain": [
       "\"\\ufeffthe project gutenberg ebook the jungle that i have settled it all ? '' laughing , shiv made answer , `` you 'll know better than to waste time in his head and looked deep into the hut and slept , and a flaming flash when he comes in to copper island . if you have read , understand , agree to be uncomfortable , and raced through to the foot of his hole among the elephant-fodder . there were words used to mimic accents of the pack know it . kala nag 's neck , o little son of\""
      ]
     },
     "execution_count": 4,
     "metadata": {},
     "output_type": "execute_result"
    }
   ],
   "source": [
    "words_generated = generate_text(generate_tokens(file_name), num=3, length=100, estimator=ml_estimator)\n",
    "# Transform the list of words to a string#\n",
    "' '.join(words_generated)"
   ]
  },
  {
   "cell_type": "code",
   "execution_count": 5,
   "metadata": {},
   "outputs": [
    {
     "data": {
      "text/plain": [
       "\"\\ufeffthe project gutenberg ebook the jungle book * * * produced by suzanne shell , ernest schaal , and the tiger that i speak of _he_ limps , too , must have run away from the camel lines , and i thought it was safe ; but one night a man popped his head in and shouted , `` get out , quick ! they 're coming ! my tent 's gone ! '' i knew who `` they '' were ; so i put on my boots and waterproof and scuttled out into the middle of it , you\""
      ]
     },
     "execution_count": 5,
     "metadata": {},
     "output_type": "execute_result"
    }
   ],
   "source": [
    "words_generated = generate_text(generate_tokens(file_name), num=4, length=100, estimator=ml_estimator)\n",
    "# Transform the list of words to a string#\n",
    "' '.join(words_generated)"
   ]
  },
  {
   "cell_type": "code",
   "execution_count": 6,
   "metadata": {},
   "outputs": [
    {
     "data": {
      "text/plain": [
       "\"\\ufeffthe project gutenberg ebook of the jungle book , by rudyard kipling copyright , 1894 , by the century co. contents page mowgli 's brothers 1 hunting-song of the seeonee pack as the dawn was breaking the sambhur belled once , twice , and again ! as the dawn was breaking the sambhur belled once , twice , and again ! and a wolf stole back -- and a wolf stole back -- and a wolf stole back -- and a wolf stole back -- and a wolf stole back -- and a wolf stole back to carry the word\""
      ]
     },
     "execution_count": 6,
     "metadata": {},
     "output_type": "execute_result"
    }
   ],
   "source": [
    "words_generated = generate_text(generate_tokens(file_name), num=5, length=100, estimator=ml_estimator)\n",
    "# Transform the list of words to a string#\n",
    "' '.join(words_generated)"
   ]
  },
  {
   "cell_type": "markdown",
   "metadata": {},
   "source": [
    "### These were the sentences generated by varing the num values from 2 to 5 using jungle book corpus. The text generated by n=4 and n=5 were better than the remaining. The text with higher values of num (like num=3,4,5) effectively read the current word and generates more resonable text."
   ]
  },
  {
   "cell_type": "markdown",
   "metadata": {},
   "source": [
    "## Using Bible Corpus varying num values between 2 to 5 "
   ]
  },
  {
   "cell_type": "code",
   "execution_count": 34,
   "metadata": {},
   "outputs": [
    {
     "data": {
      "text/plain": [
       "'in parables spake unto me : but thou hast lifted up to do that hate them , behold , which took of life . but i not evil doing any magician , and the children of that searched out . our saviour , what god . blessed is in the glorious name , saying , and fall therein . for righteousness answer in heaven and thou shalt not the judges , not put thou hast obeyed the first i have drunk with all the firstborn of the year after he that day , and part unto me after them ,'"
      ]
     },
     "execution_count": 34,
     "metadata": {},
     "output_type": "execute_result"
    }
   ],
   "source": [
    "file_name = \"kingjamesbible_tokenized.txt\"\n",
    "words_generated = generate_text(generate_tokens(file_name), num=2, length=100, estimator=ml_estimator)\n",
    "# Transform the list of words to a string#\n",
    "' '.join(words_generated)"
   ]
  },
  {
   "cell_type": "code",
   "execution_count": 35,
   "metadata": {},
   "outputs": [
    {
     "data": {
      "text/plain": [
       "'in the day of darkness , to pray for you , and thou shalt make the residue of the flocks toward the south , and joseph hindermost . and as the brethren , we wot not what they do them good : therefore now , because they had numbered the people in her height with the father hath deceived thee , see all the day when thou art a swift dromedary traversing her ways , saith the lord god . for the ephod with a mighty man that is my kingdom not from whence came they ? and the perizzites'"
      ]
     },
     "execution_count": 35,
     "metadata": {},
     "output_type": "execute_result"
    }
   ],
   "source": [
    "words_generated = generate_text(generate_tokens(file_name), num=3, length=100, estimator=ml_estimator)\n",
    "# Transform the list of words to a string#\n",
    "' '.join(words_generated)"
   ]
  },
  {
   "cell_type": "code",
   "execution_count": 36,
   "metadata": {},
   "outputs": [
    {
     "data": {
      "text/plain": [
       "\"in the beginning of his kingdom there shall be a tabernacle for the sides of the earth . and he sent , and , behold , i have caused wine to fail from the house of levi was budded , and brought them into the hands of my master 's servants that ministered unto him , art thou then the son of jehoahaz to reign over israel , all the rams which leaped upon the altar unto the lord , and believed not , and cast them into a furnace of fire : from the sole of my feet ,\""
      ]
     },
     "execution_count": 36,
     "metadata": {},
     "output_type": "execute_result"
    }
   ],
   "source": [
    "words_generated = generate_text(generate_tokens(file_name), num=4, length=100, estimator=ml_estimator)\n",
    "# Transform the list of words to a string#\n",
    "' '.join(words_generated)"
   ]
  },
  {
   "cell_type": "code",
   "execution_count": 37,
   "metadata": {},
   "outputs": [
    {
     "data": {
      "text/plain": [
       "'in the beginning god created the heaven and the earth by thy great power and stretched out arm , and his miracles , and his acts , which he did to you and to your fathers : but ye have not hearkened unto my counsel . then amaziah king of judah , in the tenth month , in the tenth month , in the tenth day of this month the children of israel for a possession : and die in the mount whither thou goest up , and be gathered unto thy people . and he said unto them ,'"
      ]
     },
     "execution_count": 37,
     "metadata": {},
     "output_type": "execute_result"
    }
   ],
   "source": [
    "words_generated = generate_text(generate_tokens(file_name), num=5, length=100, estimator=ml_estimator)\n",
    "# Transform the list of words to a string#\n",
    "' '.join(words_generated)"
   ]
  },
  {
   "cell_type": "markdown",
   "metadata": {},
   "source": [
    "### Here, Again the text generated by the num values 4 and 5 are more meaningful when compared with others."
   ]
  },
  {
   "cell_type": "code",
   "execution_count": null,
   "metadata": {},
   "outputs": [],
   "source": []
  },
  {
   "cell_type": "markdown",
   "metadata": {},
   "source": [
    "## Using Bible Corpus varying num values between 2 to 5 and using goodturing_estimator"
   ]
  },
  {
   "cell_type": "code",
   "execution_count": 40,
   "metadata": {},
   "outputs": [
    {
     "data": {
      "text/plain": [
       "\"in performing a feast of boasting in halah and prophets , and that is evil things , behold our soul hath spoken by thee , whose god called : but now moses gave him ; being like hinds ' sake , come to my lord commanded unto the scribes , and your fathers , and all by me . as one of benjamin . let him , which were gotten me . and the lord , i say unto their flocks by their nakedness . his reign of man under him that fear not : but the shadow over syria\""
      ]
     },
     "execution_count": 40,
     "metadata": {},
     "output_type": "execute_result"
    }
   ],
   "source": [
    "file_name = \"kingjamesbible_tokenized.txt\"\n",
    "words_generated = generate_text(generate_tokens(file_name), num=2, length=100, estimator=goodturing_estimator)\n",
    "# Transform the list of words to a string#\n",
    "' '.join(words_generated)"
   ]
  },
  {
   "cell_type": "code",
   "execution_count": 41,
   "metadata": {},
   "outputs": [
    {
     "data": {
      "text/plain": [
       "\"in the winterhouse in the jews round about them fled at the shining light : and i do for you : this was the cause of the countries . so the king 's daughter looked through a troop suddenly upon them as they loved the damsel 's father ; and zimri ; and daily in the fourth , elam , zatthu , bani , and from your land , and told david these words , and evil ; he shall rise up , and said unto the sanctuary . we looked for some , he thought scorn to lay upon\""
      ]
     },
     "execution_count": 41,
     "metadata": {},
     "output_type": "execute_result"
    }
   ],
   "source": [
    "words_generated = generate_text(generate_tokens(file_name), num=3, length=100, estimator=goodturing_estimator)\n",
    "# Transform the list of words to a string#\n",
    "' '.join(words_generated)"
   ]
  },
  {
   "cell_type": "code",
   "execution_count": 42,
   "metadata": {},
   "outputs": [
    {
     "data": {
      "text/plain": [
       "\"in the beginning of sorrows . then shall the hands of the pitiful women have sodden their own children : for they know not ; he will give them that are no gods . but now we are delivered to do all that is dressed in the fryingpan , it shall be recompensed unto the lord , o house of israel , and he spake also of beasts , and creeping things . wherefore hast thou at all take thy neighbour 's . and all the chaldeans , whose cry is in the field , which was clothed in purple\""
      ]
     },
     "execution_count": 42,
     "metadata": {},
     "output_type": "execute_result"
    }
   ],
   "source": [
    "words_generated = generate_text(generate_tokens(file_name), num=4, length=100, estimator=goodturing_estimator)\n",
    "# Transform the list of words to a string#\n",
    "' '.join(words_generated)"
   ]
  },
  {
   "cell_type": "code",
   "execution_count": 43,
   "metadata": {},
   "outputs": [
    {
     "data": {
      "text/plain": [
       "\"in the beginning god created the heaven and the earth . and when pharaoh saw that there was much money in the chest , that the king should take it to his heart . sorrow is better than laughter : for by the way they had disputed among themselves , who shall roll us away the stone from the well 's mouth . and put my cup , the silver cup , in the sack 's mouth of the youngest , and , behold , the hand of the hunter , and as a dove out of the ark ,\""
      ]
     },
     "execution_count": 43,
     "metadata": {},
     "output_type": "execute_result"
    }
   ],
   "source": [
    "words_generated = generate_text(generate_tokens(file_name), num=5, length=100, estimator=goodturing_estimator)\n",
    "# Transform the list of words to a string#\n",
    "' '.join(words_generated)"
   ]
  },
  {
   "cell_type": "markdown",
   "metadata": {},
   "source": [
    "### By comparing the words generated using goodturing_estimator and ml_estimator, we can notice that the text obtatined using ml_estimator were more meaningful"
   ]
  }
 ],
 "metadata": {
  "kernelspec": {
   "display_name": "Python 3",
   "language": "python",
   "name": "python3"
  },
  "language_info": {
   "codemirror_mode": {
    "name": "ipython",
    "version": 3
   },
   "file_extension": ".py",
   "mimetype": "text/x-python",
   "name": "python",
   "nbconvert_exporter": "python",
   "pygments_lexer": "ipython3",
   "version": "3.8.5"
  }
 },
 "nbformat": 4,
 "nbformat_minor": 4
}
